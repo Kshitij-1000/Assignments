{
 "cells": [
  {
   "cell_type": "markdown",
   "metadata": {},
   "source": [
    "# Q.1 myreduce( )"
   ]
  },
  {
   "cell_type": "code",
   "execution_count": 14,
   "metadata": {},
   "outputs": [],
   "source": [
    "def myreduce(func,lis):\n",
    "    new = func(lis[0],lis[1])\n",
    "    lis = lis[2:]\n",
    "    for ele in lis:\n",
    "        new = func(new,ele)\n",
    "    return new"
   ]
  },
  {
   "cell_type": "markdown",
   "metadata": {},
   "source": [
    "## Example usage of myreduce ( )"
   ]
  },
  {
   "cell_type": "code",
   "execution_count": 22,
   "metadata": {},
   "outputs": [],
   "source": [
    "import functools"
   ]
  },
  {
   "cell_type": "code",
   "execution_count": 24,
   "metadata": {},
   "outputs": [
    {
     "name": "stdout",
     "output_type": "stream",
     "text": [
      "Using functools.reduce()\n",
      "\n",
      "User defined functions\n",
      "sum of elements of a list : 87\n",
      "6 ! = 720\n",
      "inline lambda functions\n",
      "87\n",
      "720\n",
      "\n",
      "\n",
      " Using functools.reduce()\n",
      "\n",
      "User defined functions\n",
      "sum of elements of a list : 87\n",
      "6 ! = 720\n",
      "inline lambda functions\n",
      "87\n",
      "720\n"
     ]
    }
   ],
   "source": [
    "#-------------myreduce()-----------------------------------------------------------------\n",
    "'''Using myreduce()\n",
    "\\nUser defined functions'''\n",
    "print('\\n\\n',__doc__)\n",
    "def summation(x,y):\n",
    "    return x+y\n",
    "def multiply(x,y):\n",
    "    return x*y\n",
    "\n",
    "print('sum of elements of a list :',myreduce(summation,[12,13,14,15,16,17]))\n",
    "print('6 ! =', myreduce(multiply,range(1,7)))\n",
    "\n",
    "\"\"\"inline lambda functions\"\"\"\n",
    "print(__doc__)\n",
    "print(myreduce(lambda x,y : x+y, [12,13,14,15,16,17]))\n",
    "print(myreduce(lambda x,y : x*y, range(1,7)))\n",
    "\n",
    "\n",
    "#---------functools.reduce()------------------------------------------------------------\n",
    "\n",
    "'''Using functools.reduce()\n",
    "\\nUser defined functions'''\n",
    "print(__doc__)\n",
    "def summation(x,y):\n",
    "    return x+y\n",
    "def multiply(x,y):\n",
    "    return x*y\n",
    "\n",
    "print('sum of elements of a list :',functools.reduce(summation,[12,13,14,15,16,17]))\n",
    "print('6 ! =', functools.reduce(multiply,range(1,7)))\n",
    "\n",
    "\"\"\"inline lambda functions\"\"\"\n",
    "print(__doc__)\n",
    "print(functools.reduce(lambda x,y : x+y, [12,13,14,15,16,17]))\n",
    "print(functools.reduce(lambda x,y : x*y, range(1,7)))\n"
   ]
  },
  {
   "cell_type": "markdown",
   "metadata": {},
   "source": [
    "# Q.2 myfilter( )"
   ]
  },
  {
   "cell_type": "code",
   "execution_count": 8,
   "metadata": {},
   "outputs": [
    {
     "name": "stdout",
     "output_type": "stream",
     "text": [
      "Since filter() generates a filter type object but it can be typecasted into\n",
      "a list therefore myfilter() will directly return a list object\n"
     ]
    }
   ],
   "source": [
    "'''Since filter() generates a filter type object but it can be typecasted into\n",
    "a list therefore myfilter() will directly return a list object'''\n",
    "print(__doc__)\n",
    "def myfilter(func,lis):\n",
    "    new_lis = []    \n",
    "    for ele in lis:\n",
    "        if func(ele) == True or func(ele) in lis:\n",
    "            new_lis.append(ele)\n",
    "    return new_lis"
   ]
  },
  {
   "cell_type": "markdown",
   "metadata": {},
   "source": [
    "## Example usage of myfilter( )"
   ]
  },
  {
   "cell_type": "code",
   "execution_count": 12,
   "metadata": {},
   "outputs": [
    {
     "name": "stdout",
     "output_type": "stream",
     "text": [
      "sample list = [3, 4, 6, 8, 10, 12, 15, 4, 11, 18, 5, 2]\n",
      " Using filter()\n",
      "multiple of 3 : [3, 6, 12, 15, 18]\n",
      "greater than 7: [8, 10, 12, 15, 11, 18]\n",
      "square under 100: [3, 4, 6, 8, 4, 5, 2]\n",
      "\n",
      "\n",
      " Using myfilter()\n",
      "multiple of 3 : [3, 6, 12, 15, 18]\n",
      "greater than 7: [8, 10, 12, 15, 11, 18]\n",
      "square under 100: [3, 4, 6, 8, 4, 5, 2]\n"
     ]
    }
   ],
   "source": [
    "def multiple_of_3(x):\n",
    "  if(x%3 == 0):\n",
    "    return x\n",
    "\n",
    "def greater_than_7(x):\n",
    "    if x>7:\n",
    "        return True\n",
    "    else:\n",
    "        return False\n",
    "\n",
    "def square_less_than_100(x):\n",
    "    if x**2 < 100:\n",
    "        return x\n",
    "    \n",
    "    \n",
    "sample_list = [3,4,6,8,10,12,15,4,11,18,5,2]\n",
    "print('sample list =',sample_list)\n",
    "\n",
    "\n",
    "''' Using filter()'''\n",
    "print(__doc__)\n",
    "print('multiple of 3 :',list(filter(multiple_of_3,sample_list)))\n",
    "print('greater than 7:',list(filter(greater_than_7,sample_list)))\n",
    "print('square under 100:',list(filter(square_less_than_100, sample_list)))\n",
    "\n",
    "\n",
    "'''Using myfilter()'''\n",
    "print('\\n\\n',__doc__)\n",
    "print('multiple of 3 :',list(myfilter(multiple_of_3,sample_list)))\n",
    "print('greater than 7:',list(myfilter(greater_than_7,sample_list)))\n",
    "print('square under 100:',list(myfilter(square_less_than_100, sample_list)))"
   ]
  },
  {
   "cell_type": "markdown",
   "metadata": {},
   "source": [
    "# Q.3 List Comprehensions"
   ]
  },
  {
   "cell_type": "code",
   "execution_count": 25,
   "metadata": {},
   "outputs": [
    {
     "data": {
      "text/plain": [
       "['x', 'xx', 'xxx', 'xxxx', 'y', 'yy', 'yyy', 'yyyy', 'z', 'zz', 'zzz', 'zzzz']"
      ]
     },
     "execution_count": 25,
     "metadata": {},
     "output_type": "execute_result"
    }
   ],
   "source": [
    "list1 = ['x'*i if i<=4 else 'y'*(i-4) if i>4 and i<=8 else 'z'*(i-8) for i in range(1,13)]\n",
    "list1"
   ]
  },
  {
   "cell_type": "code",
   "execution_count": 26,
   "metadata": {},
   "outputs": [
    {
     "data": {
      "text/plain": [
       "['x', 'y', 'z', 'xx', 'yy', 'zz', 'xxx', 'yyy', 'zzz', 'xxxx', 'yyyy', 'zzzz']"
      ]
     },
     "execution_count": 26,
     "metadata": {},
     "output_type": "execute_result"
    }
   ],
   "source": [
    "list2 = ['x'*int((i+2)/3) if i in [1,4,7,10] else 'y'*int((i+1)/3) if i in [2,5,8,11] else 'z'*int(i/3) for i in range(1,13)]\n",
    "list2"
   ]
  },
  {
   "cell_type": "code",
   "execution_count": 27,
   "metadata": {},
   "outputs": [
    {
     "data": {
      "text/plain": [
       "[[2], [3], [4], [3], [4], [5], [4], [5], [6]]"
      ]
     },
     "execution_count": 27,
     "metadata": {},
     "output_type": "execute_result"
    }
   ],
   "source": [
    "list3 = [[i+1] if i<=3 else [i-1] if i>3 and i<=6 else [i-3] for i in range(1,10)]\n",
    "list3"
   ]
  },
  {
   "cell_type": "code",
   "execution_count": 28,
   "metadata": {},
   "outputs": [
    {
     "data": {
      "text/plain": [
       "[[2, 3, 4, 5], [3, 4, 5, 6], [4, 5, 6, 7], [5, 6, 7, 8]]"
      ]
     },
     "execution_count": 28,
     "metadata": {},
     "output_type": "execute_result"
    }
   ],
   "source": [
    "list4 = [list(range(i,i+4)) for i in range(2,6)]\n",
    "list4"
   ]
  },
  {
   "cell_type": "code",
   "execution_count": 29,
   "metadata": {},
   "outputs": [
    {
     "data": {
      "text/plain": [
       "[(1, 1), (2, 1), (3, 1), (1, 2), (2, 2), (3, 2), (1, 3), (2, 3), (3, 3)]"
      ]
     },
     "execution_count": 29,
     "metadata": {},
     "output_type": "execute_result"
    }
   ],
   "source": [
    "list5 = [(j,i) for i in range(1,4) for j in range(1,4)]\n",
    "list5"
   ]
  }
 ],
 "metadata": {
  "kernelspec": {
   "display_name": "Python 3",
   "language": "python",
   "name": "python3"
  },
  "language_info": {
   "codemirror_mode": {
    "name": "ipython",
    "version": 3
   },
   "file_extension": ".py",
   "mimetype": "text/x-python",
   "name": "python",
   "nbconvert_exporter": "python",
   "pygments_lexer": "ipython3",
   "version": "3.7.3"
  }
 },
 "nbformat": 4,
 "nbformat_minor": 2
}
