{
 "cells": [
  {
   "cell_type": "markdown",
   "metadata": {},
   "source": [
    "# Vandermonde Matrix"
   ]
  },
  {
   "cell_type": "code",
   "execution_count": 1,
   "metadata": {},
   "outputs": [],
   "source": [
    "import numpy as np"
   ]
  },
  {
   "cell_type": "markdown",
   "metadata": {},
   "source": [
    "## using Inbuilt numpy function np.vander(.....)"
   ]
  },
  {
   "cell_type": "code",
   "execution_count": 2,
   "metadata": {},
   "outputs": [
    {
     "name": "stdout",
     "output_type": "stream",
     "text": [
      "Using inbuilt vandermonde matrix function of numpy\n",
      "\n",
      "\n",
      "Vandermonde Matrix with increasing = True:\n",
      "[[  1   3   9  27]\n",
      " [  1   1   1   1]\n",
      " [  1   6  36 216]\n",
      " [  1   7  49 343]\n",
      " [  1   4  16  64]]\n",
      "\n",
      "\n",
      "Vandermonde Matrix with increasing = False (default):\n",
      "[[ 27   9   3   1]\n",
      " [  1   1   1   1]\n",
      " [216  36   6   1]\n",
      " [343  49   7   1]\n",
      " [ 64  16   4   1]]\n"
     ]
    }
   ],
   "source": [
    "'''Using inbuilt vandermonde matrix function of numpy'''\n",
    "print(__doc__)\n",
    "\n",
    "x = np.array([3,1,6,7,4])\n",
    "v_mat1 = np.vander(x, 4, increasing = True)\n",
    "print('\\n\\nVandermonde Matrix with increasing = True:')\n",
    "print(v_mat1)\n",
    "\n",
    "v_mat2 = np.vander(x, 4)\n",
    "print('\\n\\nVandermonde Matrix with increasing = False (default):')\n",
    "print(v_mat2)"
   ]
  },
  {
   "cell_type": "markdown",
   "metadata": {},
   "source": [
    "# Defining a Vandermonde Matrix Generator.\n",
    "## my_vandermonde_func(arr, n, increasing = False)"
   ]
  },
  {
   "cell_type": "code",
   "execution_count": 3,
   "metadata": {},
   "outputs": [],
   "source": [
    "'''increase is False by default'''\n",
    "\n",
    "def my_vandermonde_func(arr, n, increasing = False):\n",
    "    mat = []\n",
    "    for i in range(len(arr)):\n",
    "        temp = []\n",
    "        for j in range(n):\n",
    "            if increasing == False:\n",
    "                temp.append(arr[i]**(n-j-1))\n",
    "            else:\n",
    "                temp.append(arr[i]**j)\n",
    "        mat.append(temp)\n",
    "    mat = np.column_stack(mat).T\n",
    "    return mat"
   ]
  },
  {
   "cell_type": "markdown",
   "metadata": {},
   "source": [
    "# Usage"
   ]
  },
  {
   "cell_type": "code",
   "execution_count": 4,
   "metadata": {},
   "outputs": [
    {
     "name": "stdout",
     "output_type": "stream",
     "text": [
      "[[  1   1   1   1]\n",
      " [  8   4   2   1]\n",
      " [125  25   5   1]\n",
      " [ 27   9   3   1]\n",
      " [ 64  16   4   1]]\n"
     ]
    }
   ],
   "source": [
    "x = np.array([1,2,5,3,4])\n",
    "print(my_vandermonde_func(x, 4))"
   ]
  },
  {
   "cell_type": "code",
   "execution_count": 5,
   "metadata": {},
   "outputs": [
    {
     "name": "stdout",
     "output_type": "stream",
     "text": [
      "[[  1   1   1   1]\n",
      " [  1   2   4   8]\n",
      " [  1   5  25 125]\n",
      " [  1   3   9  27]\n",
      " [  1   4  16  64]]\n"
     ]
    }
   ],
   "source": [
    "print(my_vandermonde_func(x,4,increasing = True))"
   ]
  },
  {
   "cell_type": "markdown",
   "metadata": {},
   "source": []
  },
  {
   "cell_type": "markdown",
   "metadata": {},
   "source": [
    "# Q.2 Moving Average Function"
   ]
  },
  {
   "cell_type": "code",
   "execution_count": 6,
   "metadata": {},
   "outputs": [],
   "source": [
    "def moving_avg(arr, k):\n",
    "    mov_avg = np.array([])\n",
    "    for i in range(len(arr) - k + 1):\n",
    "        s = 0\n",
    "        for j in range(i, i+k):\n",
    "            s = s + arr[j]/k\n",
    "            s = round(s, 3)\n",
    "        mov_avg = np.append(mov_avg, s)\n",
    "    return mov_avg"
   ]
  },
  {
   "cell_type": "markdown",
   "metadata": {},
   "source": [
    "# Example 1"
   ]
  },
  {
   "cell_type": "code",
   "execution_count": 7,
   "metadata": {},
   "outputs": [
    {
     "name": "stdout",
     "output_type": "stream",
     "text": [
      "[25.0, 35.0, 45.0, 55.0, 65.0, 75.0, 85.0]\n"
     ]
    }
   ],
   "source": [
    "x = [10, 20, 30, 40, 50, 60, 70, 80, 90 , 100]\n",
    "k = 4\n",
    "print([*moving_avg(x, k)])"
   ]
  },
  {
   "cell_type": "markdown",
   "metadata": {},
   "source": [
    "# Test Array"
   ]
  },
  {
   "cell_type": "code",
   "execution_count": 8,
   "metadata": {},
   "outputs": [
    {
     "name": "stdout",
     "output_type": "stream",
     "text": [
      "[5.0, 4.667, 5.667, 6.667, 9.667, 28.667, 49.334, 72.667, 84.0, 93.333, 116.333]\n"
     ]
    }
   ],
   "source": [
    "x = [3, 5, 7, 2, 8, 10, 11, 65, 72, 81, 99, 100, 150]\n",
    "# Window = 3\n",
    "k = 3 \n",
    "print([*moving_avg(x, k)])"
   ]
  }
 ],
 "metadata": {
  "kernelspec": {
   "display_name": "Python 3",
   "language": "python",
   "name": "python3"
  },
  "language_info": {
   "codemirror_mode": {
    "name": "ipython",
    "version": 3
   },
   "file_extension": ".py",
   "mimetype": "text/x-python",
   "name": "python",
   "nbconvert_exporter": "python",
   "pygments_lexer": "ipython3",
   "version": "3.7.3"
  }
 },
 "nbformat": 4,
 "nbformat_minor": 2
}
