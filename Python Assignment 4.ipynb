{
 "cells": [
  {
   "cell_type": "markdown",
   "metadata": {},
   "source": [
    "## Q 1.1   Find Area of Triangle"
   ]
  },
  {
   "cell_type": "code",
   "execution_count": 10,
   "metadata": {},
   "outputs": [
    {
     "name": "stdout",
     "output_type": "stream",
     "text": [
      "Input the edge lengths with a space between them\n",
      "example : 3 4 5\n",
      "12 5 13\n",
      "The area of the triangle is : 30.0 square units\n"
     ]
    }
   ],
   "source": [
    "class Triangle:\n",
    "    def __init__(self):\n",
    "        print('Input the edge lengths with a space between them\\nexample : 3 4 5')\n",
    "        self.edges = [*map(int,input().split())]\n",
    "\n",
    "class Area(Triangle):\n",
    "    def __init__(self):\n",
    "        Triangle.__init__(self)\n",
    "    def find_area(self):\n",
    "        a, b, c = self.edges\n",
    "        s = (a+b+c)/2\n",
    "        area = (s*(s-a)*(s-b)*(s-c)) ** 0.5\n",
    "        print('The area of the triangle is :',area,'square units')\n",
    "\n",
    "a1 = Area()\n",
    "a1.find_area()"
   ]
  },
  {
   "cell_type": "markdown",
   "metadata": {},
   "source": [
    "## Q1.2  filter_long_words( )"
   ]
  },
  {
   "cell_type": "code",
   "execution_count": 14,
   "metadata": {},
   "outputs": [
    {
     "name": "stdout",
     "output_type": "stream",
     "text": [
      "Enter a list words : intellect solar corona knight nebula immunization tug io nylon\n",
      "n = 5\n",
      "intellect corona knight nebula immunization\n"
     ]
    }
   ],
   "source": [
    "def filter_long_words(word_list,L):\n",
    "    new_list = []\n",
    "    for ele in word_list:\n",
    "        if len(ele)>L:\n",
    "            new_list.append(ele)\n",
    "    return new_list\n",
    "# example \n",
    "# wl = ['intellect solar corona knight nebula immunization tug io nylon']\n",
    "wl = input('Enter a list words : ').split()\n",
    "l = int(input('n = '))\n",
    "print(*filter_long_words(wl,l))"
   ]
  },
  {
   "cell_type": "markdown",
   "metadata": {},
   "source": [
    "## Q 2.1 Map a list of words into a list of integers representing the lengths of the corresponding words."
   ]
  },
  {
   "cell_type": "code",
   "execution_count": 16,
   "metadata": {},
   "outputs": [
    {
     "name": "stdout",
     "output_type": "stream",
     "text": [
      "corona knight nebula immunization tug io\n",
      "6 6 6 12 3 2\n"
     ]
    }
   ],
   "source": [
    "# Enter words with a space\n",
    "word_list_1 = input().split()\n",
    "def map_into_lenghts(word_list):\n",
    "    int_list = []\n",
    "    for ele in word_list:\n",
    "        int_list.append(len(ele))\n",
    "    return int_list\n",
    "print(*map_into_lenghts(word_list_1))"
   ]
  },
  {
   "cell_type": "markdown",
   "metadata": {},
   "source": [
    "## Q 2.2 True for Vowel and False otherwise"
   ]
  },
  {
   "cell_type": "code",
   "execution_count": 17,
   "metadata": {},
   "outputs": [
    {
     "name": "stdout",
     "output_type": "stream",
     "text": [
      "Enter a character : E\n",
      "True\n"
     ]
    }
   ],
   "source": [
    "x = input('Enter a character : ')\n",
    "vowel = ['a','e','i','o','u','A','E','I','O','U']\n",
    "for ele in vowel:\n",
    "    res = x == ele and True or False\n",
    "    if res == True:\n",
    "        break\n",
    "print(res)"
   ]
  }
 ],
 "metadata": {
  "kernelspec": {
   "display_name": "Python 3",
   "language": "python",
   "name": "python3"
  },
  "language_info": {
   "codemirror_mode": {
    "name": "ipython",
    "version": 3
   },
   "file_extension": ".py",
   "mimetype": "text/x-python",
   "name": "python",
   "nbconvert_exporter": "python",
   "pygments_lexer": "ipython3",
   "version": "3.7.3"
  }
 },
 "nbformat": 4,
 "nbformat_minor": 2
}
