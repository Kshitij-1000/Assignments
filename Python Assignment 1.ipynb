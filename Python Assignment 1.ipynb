{
 "cells": [
  {
   "cell_type": "markdown",
   "metadata": {},
   "source": [
    "## Q.1. Divisibility by 7 and not by 5"
   ]
  },
  {
   "cell_type": "code",
   "execution_count": 1,
   "metadata": {},
   "outputs": [
    {
     "name": "stdout",
     "output_type": "stream",
     "text": [
      "[2002, 2009, 2016, 2023, 2037, 2044, 2051, 2058, 2072, 2079, 2086, 2093, 2107, 2114, 2121, 2128, 2142, 2149, 2156, 2163, 2177, 2184, 2191, 2198, 2212, 2219, 2226, 2233, 2247, 2254, 2261, 2268, 2282, 2289, 2296, 2303, 2317, 2324, 2331, 2338, 2352, 2359, 2366, 2373, 2387, 2394, 2401, 2408, 2422, 2429, 2436, 2443, 2457, 2464, 2471, 2478, 2492, 2499, 2506, 2513, 2527, 2534, 2541, 2548, 2562, 2569, 2576, 2583, 2597, 2604, 2611, 2618, 2632, 2639, 2646, 2653, 2667, 2674, 2681, 2688, 2702, 2709, 2716, 2723, 2737, 2744, 2751, 2758, 2772, 2779, 2786, 2793, 2807, 2814, 2821, 2828, 2842, 2849, 2856, 2863, 2877, 2884, 2891, 2898, 2912, 2919, 2926, 2933, 2947, 2954, 2961, 2968, 2982, 2989, 2996, 3003, 3017, 3024, 3031, 3038, 3052, 3059, 3066, 3073, 3087, 3094, 3101, 3108, 3122, 3129, 3136, 3143, 3157, 3164, 3171, 3178, 3192, 3199]\n"
     ]
    }
   ],
   "source": [
    "# 2002 is closest to 2000 that is divisible by 7\n",
    "# therefore we run from 2002 to 3200 with step = 7\n",
    "# in the process we will remove all those numbers \n",
    "# that are divisible by 5.\n",
    "# Instead of checking all numbers it will jump 6 numbers \n",
    "# at a time beacause they are not mathematically relevent,\n",
    "# thus reducing the time and space complexity.\n",
    "res1 = []\n",
    "for i in range(2002,3201,7):\n",
    "    if i % 5 != 0:\n",
    "        res1.append(i)\n",
    "print(res1)"
   ]
  },
  {
   "cell_type": "markdown",
   "metadata": {},
   "source": [
    "## Q.2. Name Reversal"
   ]
  },
  {
   "cell_type": "code",
   "execution_count": 2,
   "metadata": {},
   "outputs": [
    {
     "name": "stdout",
     "output_type": "stream",
     "text": [
      "Enter only First and Last name : Alan Turing\n",
      "Turing Alan \n"
     ]
    }
   ],
   "source": [
    "Name = input('Enter only First and Last name : ').split()\n",
    "reverse = ''\n",
    "for i in range(len(Name)-1,-1,-1):\n",
    "    reverse += Name[i]+' '\n",
    "print(reverse)"
   ]
  },
  {
   "cell_type": "markdown",
   "metadata": {},
   "source": [
    "## Q.3. Volume of Sphere\n",
    "# $ V = \\frac{4}{3} \\pi r^3$"
   ]
  },
  {
   "cell_type": "code",
   "execution_count": 4,
   "metadata": {},
   "outputs": [
    {
     "name": "stdout",
     "output_type": "stream",
     "text": [
      "Given diameter of sphere = 12 cm\n",
      "Volume of sphere with diameter 12 cm = 904.7786831999999 cubic cm\n"
     ]
    }
   ],
   "source": [
    "def sphere_volume(d):\n",
    "    r = d/2\n",
    "    return (4/3) * 3.14159265 * r**3\n",
    "d = 12\n",
    "print('Given diameter of sphere =',d,'cm')\n",
    "V = sphere_volume(d)\n",
    "print('Volume of sphere with diameter',d,'cm =',V,'cubic cm')"
   ]
  }
 ],
 "metadata": {
  "kernelspec": {
   "display_name": "Python 3",
   "language": "python",
   "name": "python3"
  },
  "language_info": {
   "codemirror_mode": {
    "name": "ipython",
    "version": 3
   },
   "file_extension": ".py",
   "mimetype": "text/x-python",
   "name": "python",
   "nbconvert_exporter": "python",
   "pygments_lexer": "ipython3",
   "version": "3.7.3"
  }
 },
 "nbformat": 4,
 "nbformat_minor": 2
}
